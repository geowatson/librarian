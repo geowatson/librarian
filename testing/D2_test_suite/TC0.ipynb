{
 "cells": [
  {
   "cell_type": "code",
   "execution_count": 17,
   "metadata": {},
   "outputs": [],
   "source": [
    "import requests as rq"
   ]
  },
  {
   "cell_type": "code",
   "execution_count": 24,
   "metadata": {},
   "outputs": [
    {
     "name": "stdout",
     "output_type": "stream",
     "text": [
      "[{'order_id': 1, 'copy': 1, 'user': 2, 'date_created': '2018-02-19', 'date_accepted': '2018-02-19', 'date_return': '2018-02-19', 'status': 0}] \n"
     ]
    }
   ],
   "source": [
    "admin = \"JWT \" + rq.post(\"http://trainno.ru:41000/api/users/login/\", data={\"username\": \"admin\", \"password\": \"Qzectbumo13579@q@q\"}).json()['token']\n",
    "student = \"JWT \" + rq.post(\"http://trainno.ru:41000/api/users/login/\", data={\"username\": \"john.doe\", \"password\": \"FXM-HC3-JKc-WXa\"}).json()['token']\n",
    "\n",
    "request = rq.get(\"http://trainno.ru:41000/api/orders/\", headers={\"BEARER\": admin}).json()\n",
    "data = request['data']\n",
    "status = request['status']\n",
    "print(data, status)"
   ]
  }
 ],
 "metadata": {
  "kernelspec": {
   "display_name": "Python 3",
   "language": "python",
   "name": "python3"
  },
  "language_info": {
   "codemirror_mode": {
    "name": "ipython",
    "version": 3
   },
   "file_extension": ".py",
   "mimetype": "text/x-python",
   "name": "python",
   "nbconvert_exporter": "python",
   "pygments_lexer": "ipython3",
   "version": "3.6.3"
  }
 },
 "nbformat": 4,
 "nbformat_minor": 2
}
