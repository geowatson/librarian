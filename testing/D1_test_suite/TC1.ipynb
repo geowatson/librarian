{
 "cells": [
  {
   "cell_type": "markdown",
   "metadata": {},
   "source": [
    "# Test case 1"
   ]
  },
  {
   "cell_type": "markdown",
   "metadata": {},
   "source": [
    "#### Import _requests_ library to work with REST API requests."
   ]
  },
  {
   "cell_type": "code",
   "execution_count": 16,
   "metadata": {},
   "outputs": [],
   "source": [
    "import requests as rq"
   ]
  },
  {
   "cell_type": "markdown",
   "metadata": {},
   "source": [
    "#### Getting the page with our book - let's check quantity of this book's copies"
   ]
  },
  {
   "cell_type": "code",
   "execution_count": 47,
   "metadata": {
    "scrolled": true
   },
   "outputs": [
    {
     "name": "stdout",
     "output_type": "stream",
     "text": [
      "Available copies of document \"book1\":2\n"
     ]
    }
   ],
   "source": [
    "docs = rq.get(\"http://trainno.ru/documents/?format=json\").json()[\"data\"][0]\n",
    "print(\"Available copies of document \\\"\" + docs['title'] + \"\\\": \" + str(docs['copies_available']))"
   ]
  },
  {
   "cell_type": "markdown",
   "metadata": {},
   "source": [
    "#### Let's suppose patron checks out a copy of _book1_"
   ]
  },
  {
   "cell_type": "code",
   "execution_count": 48,
   "metadata": {},
   "outputs": [
    {
     "name": "stdout",
     "output_type": "stream",
     "text": [
      "HTTP_200_OK, checkout order ID: 20\n"
     ]
    }
   ],
   "source": [
    "checkout = rq.get(\"http://www.trainno.ru/booking/2\").json() # the ID of our book is 2 now\n",
    "print(checkout['status'] + \", checkout order ID: \" + str(checkout['data']['order_id']))"
   ]
  },
  {
   "cell_type": "markdown",
   "metadata": {},
   "source": [
    "#### The HTTP status _200_ requesting of a successful booking, let's check status of other copies again"
   ]
  },
  {
   "cell_type": "code",
   "execution_count": 49,
   "metadata": {},
   "outputs": [
    {
     "name": "stdout",
     "output_type": "stream",
     "text": [
      "Available copies of document \"book1\": 1\n",
      "User ID: 1 (patron)\n"
     ]
    }
   ],
   "source": [
    "docs = rq.get(\"http://trainno.ru/documents/?format=json\").json()[\"data\"][0]\n",
    "print(\"Available copies of document \\\"\" + docs['title'] + \"\\\": \" + str(docs['copies_available']))\n",
    "print(\"User ID: \" + str(checkout['data']['user']) + \" (patron)\")"
   ]
  },
  {
   "cell_type": "markdown",
   "metadata": {},
   "source": [
    "#### Now there is only one book copy of _book1_ and second one was checked out to our patron. User ID 1 is ID of our patron user. All works correctly.\n",
    "---"
   ]
  }
 ],
 "metadata": {
  "kernelspec": {
   "display_name": "Python 3",
   "language": "python",
   "name": "python3"
  },
  "language_info": {
   "codemirror_mode": {
    "name": "ipython",
    "version": 3
   },
   "file_extension": ".py",
   "mimetype": "text/x-python",
   "name": "python",
   "nbconvert_exporter": "python",
   "pygments_lexer": "ipython3",
   "version": "3.6.3"
  }
 },
 "nbformat": 4,
 "nbformat_minor": 2
}
