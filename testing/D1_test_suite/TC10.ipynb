{
 "cells": [
  {
   "cell_type": "markdown",
   "metadata": {},
   "source": [
    "# Test case 10"
   ]
  },
  {
   "cell_type": "markdown",
   "metadata": {},
   "source": [
    "#### Import _requests_ library to work with REST API requests."
   ]
  },
  {
   "cell_type": "code",
   "execution_count": 2,
   "metadata": {},
   "outputs": [],
   "source": [
    "import requests as rq"
   ]
  },
  {
   "cell_type": "markdown",
   "metadata": {},
   "source": [
    "#### Let's try to check out non-reference book:"
   ]
  },
  {
   "cell_type": "code",
   "execution_count": 9,
   "metadata": {},
   "outputs": [
    {
     "name": "stdout",
     "output_type": "stream",
     "text": [
      "HTTP_200_OK; checkout order ID: 24\n"
     ]
    }
   ],
   "source": [
    "checkout = rq.get(\"http://www.trainno.ru/booking/5\").json() # the ID of our book is 2 now\n",
    "print(checkout['status'] + \"; checkout order ID: \" + str(checkout['data']['order_id']))"
   ]
  },
  {
   "cell_type": "markdown",
   "metadata": {},
   "source": [
    "#### Then trying to check out the referenced book:"
   ]
  },
  {
   "cell_type": "code",
   "execution_count": 10,
   "metadata": {},
   "outputs": [
    {
     "name": "stdout",
     "output_type": "stream",
     "text": [
      "HTTP_400_BAD_REQUEST; error state: reference document cannot be checked out\n"
     ]
    }
   ],
   "source": [
    "checkout = rq.get(\"http://www.trainno.ru/booking/4\").json() # the ID of our book is 2 now\n",
    "print(checkout['status'] + \"; error state: \" + str(checkout['data']['details']))"
   ]
  },
  {
   "cell_type": "markdown",
   "metadata": {},
   "source": [
    "#### We tried to reach both non-reference and reference books, and checked that reference book can not be checked out.\n",
    "---"
   ]
  }
 ],
 "metadata": {
  "kernelspec": {
   "display_name": "Python 3",
   "language": "python",
   "name": "python3"
  },
  "language_info": {
   "codemirror_mode": {
    "name": "ipython",
    "version": 3
   },
   "file_extension": ".py",
   "mimetype": "text/x-python",
   "name": "python",
   "nbconvert_exporter": "python",
   "pygments_lexer": "ipython3",
   "version": "3.6.3"
  }
 },
 "nbformat": 4,
 "nbformat_minor": 2
}
