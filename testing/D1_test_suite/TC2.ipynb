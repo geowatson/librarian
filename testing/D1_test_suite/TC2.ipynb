{
 "cells": [
  {
   "cell_type": "markdown",
   "metadata": {},
   "source": [
    "# Test case 2"
   ]
  },
  {
   "cell_type": "markdown",
   "metadata": {},
   "source": [
    "#### Import _requests_ library to work with REST API requests."
   ]
  },
  {
   "cell_type": "code",
   "execution_count": 1,
   "metadata": {},
   "outputs": [],
   "source": [
    "import requests as rq"
   ]
  },
  {
   "cell_type": "markdown",
   "metadata": {},
   "source": [
    "#### Let's try to check out _book2_; Firstly, see how many copies are free"
   ]
  },
  {
   "cell_type": "code",
   "execution_count": 12,
   "metadata": {},
   "outputs": [
    {
     "name": "stdout",
     "output_type": "stream",
     "text": [
      "There are currently 0 copies of \"book2\" in library\n"
     ]
    }
   ],
   "source": [
    "docs = rq.get(\"http://trainno.ru/documents/?format=json\").json()[\"data\"][1]\n",
    "print(\"There are currently \" + str(docs['copies_available']) + \" copies of \\\"\" + docs['title'] + \"\\\" in library\")"
   ]
  },
  {
   "cell_type": "markdown",
   "metadata": {},
   "source": [
    "#### Then, let's see what will happens if we will try to check out this book:"
   ]
  },
  {
   "cell_type": "code",
   "execution_count": 17,
   "metadata": {},
   "outputs": [
    {
     "name": "stdout",
     "output_type": "stream",
     "text": [
      "document is not available\n"
     ]
    }
   ],
   "source": [
    "checkout = rq.get(\"http://www.trainno.ru/booking/3\").json()\n",
    "print(checkout[\"data\"][\"details\"])"
   ]
  },
  {
   "cell_type": "markdown",
   "metadata": {},
   "source": [
    "#### Are there any changes on server? Doing same request about quantity"
   ]
  },
  {
   "cell_type": "code",
   "execution_count": 18,
   "metadata": {},
   "outputs": [
    {
     "name": "stdout",
     "output_type": "stream",
     "text": [
      "There are currently 0 copies of \"book2\" in library\n"
     ]
    }
   ],
   "source": [
    "docs = rq.get(\"http://trainno.ru/documents/?format=json\").json()[\"data\"][1]\n",
    "print(\"There are currently \" + str(docs['copies_available']) + \" copies of \\\"\" + docs['title'] + \"\\\" in library\")"
   ]
  },
  {
   "cell_type": "markdown",
   "metadata": {},
   "source": [
    "#### We checked that all works correctly when we trying to check out the out-of-stock book.\n",
    "---"
   ]
  }
 ],
 "metadata": {
  "kernelspec": {
   "display_name": "Python 3",
   "language": "python",
   "name": "python3"
  },
  "language_info": {
   "codemirror_mode": {
    "name": "ipython",
    "version": 3
   },
   "file_extension": ".py",
   "mimetype": "text/x-python",
   "name": "python",
   "nbconvert_exporter": "python",
   "pygments_lexer": "ipython3",
   "version": "3.6.3"
  }
 },
 "nbformat": 4,
 "nbformat_minor": 2
}
